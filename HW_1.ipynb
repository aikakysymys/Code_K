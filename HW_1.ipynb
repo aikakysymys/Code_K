{
 "cells": [
  {
   "cell_type": "markdown",
   "metadata": {},
   "source": [
    "### Задача 1 (1 балл)"
   ]
  },
  {
   "cell_type": "markdown",
   "metadata": {},
   "source": [
    "Число 1234 записали 50 подряд, а потом полученное 200-значное число возвели в квадрат. Вывести это число."
   ]
  },
  {
   "cell_type": "code",
   "execution_count": 37,
   "metadata": {},
   "outputs": [
    {
     "name": "stdout",
     "output_type": "stream",
     "text": [
      "152306059688877178546937602051034186326923521435051796008683776668495932501540983181226413470429951285957678676158444927401030932176125903419424850775906673575648393922300520881171025393368419750265852622353944565373629072078124904199590876179327103627454454616378729582129130004709641881279837154632554964667383830092180135105219692886380347205637655474718388930602231140205729743891480857256642756\n"
     ]
    }
   ],
   "source": [
    "line = '1234'*50\n",
    "anoth = int(line)**2\n",
    "print(anoth)\n",
    "\n"
   ]
  },
  {
   "cell_type": "markdown",
   "metadata": {},
   "source": [
    "Во всех задачах далее нужно написать тело функции и протестировать функцию на корректность"
   ]
  },
  {
   "cell_type": "markdown",
   "metadata": {},
   "source": [
    "### Задача 2 (2 балла)"
   ]
  },
  {
   "cell_type": "markdown",
   "metadata": {},
   "source": [
    "Посчитать 1! + 2! + 3! + 4! + ... + n! для заданного n. Решить только одним циклом"
   ]
  },
  {
   "cell_type": "code",
   "execution_count": 66,
   "metadata": {},
   "outputs": [
    {
     "name": "stdout",
     "output_type": "stream",
     "text": [
      "Таких факториалов не бывает!\n"
     ]
    }
   ],
   "source": [
    "import math as m\n",
    "\n",
    "def function_1(n):\n",
    "    if n >= 0:\n",
    "        result = 1\n",
    "        while n > 1:\n",
    "            fac = m.factorial(n)\n",
    "            result += fac\n",
    "            n = n - 1\n",
    "        return result\n",
    "    else:\n",
    "        print(\"Таких факториалов не бывает!\")\n",
    "    \n",
    "\n",
    "#Теперь придумайте набор тестов, подтверждающих корректность вашего алгоритма\n",
    "\n",
    "#Например\n",
    "assert function_1(0) == 1\n",
    "assert function_1(1) == 1\n",
    "assert function_1(3) == 9 \n",
    "function_1(-3)"
   ]
  },
  {
   "cell_type": "markdown",
   "metadata": {},
   "source": [
    "### Задача 3 (2 балла)"
   ]
  },
  {
   "cell_type": "markdown",
   "metadata": {},
   "source": [
    "Найти среднее арифметическое отрицательных элементов в списке"
   ]
  },
  {
   "cell_type": "code",
   "execution_count": 141,
   "metadata": {},
   "outputs": [],
   "source": [
    "#list_of_numbers - список чисел\n",
    "#mean - среднее арифметическое отрицательных элементов\n",
    "def function_2(list_of_numbers):\n",
    "    formean = 0\n",
    "    i = 0\n",
    "    if list_of_numbers == []:\n",
    "        mean = 0\n",
    "    else:\n",
    "        for x in list_of_numbers:\n",
    "            if x < 0:\n",
    "                i += 1\n",
    "                formean = formean + x\n",
    "            else:\n",
    "                mean = 0       \n",
    "    if formean != 0:\n",
    "        mean = formean/i\n",
    "    return mean        \n",
    "   \n",
    "assert function_2([]) == 0\n",
    "assert function_2([1, -1, -3, 3]) == -2 \n",
    "assert function_2([1, -1, -3, 3, -1, -7]) == -3\n",
    "assert function_2([1, 1, 3, 3]) == 0"
   ]
  },
  {
   "cell_type": "markdown",
   "metadata": {},
   "source": [
    "### Задача 4 (2 балла)"
   ]
  },
  {
   "cell_type": "markdown",
   "metadata": {},
   "source": [
    "Найти расстояние между точками с заданными координатами в n-мерном пространстве"
   ]
  },
  {
   "cell_type": "code",
   "execution_count": 147,
   "metadata": {},
   "outputs": [],
   "source": [
    "import math\n",
    "def function_3(point_1, point_2):\n",
    "    sqs = 0\n",
    "    for a,b in zip(point_1, point_2):\n",
    "        sqs += (a - b)**2\n",
    "    distance = math.sqrt(sqs)\n",
    "    return distance\n",
    "\n",
    "#Теперь придумайте набор тестов, подтверждающих корректность вашего алгоритма\n",
    "\n",
    "#Например\n",
    "assert function_3((1, 0), (2, 0)) == 1\n",
    "assert function_3((1, 0, 0), (2, 0, 0)) == 1\n",
    "assert function_3((1, 0, 0, 0), (2, 0, 0, 0)) == 1"
   ]
  },
  {
   "cell_type": "markdown",
   "metadata": {},
   "source": [
    "### Задача 5 (3 балла)"
   ]
  },
  {
   "cell_type": "markdown",
   "metadata": {},
   "source": [
    "Дан список-массив, заполненный случайным образом нулями и единицами. Найти самую длинную непрерывную последовательность единиц и определить индексы первого и последнего элементов в ней"
   ]
  },
  {
   "cell_type": "code",
   "execution_count": 428,
   "metadata": {},
   "outputs": [],
   "source": [
    "def function_4(binary_list):\n",
    "    x = 0\n",
    "    len_ones_sequence = 0\n",
    "    seqlen = 0\n",
    "    begin_index = 0\n",
    "    end_index = 0\n",
    "    start = 0\n",
    "    end = 0\n",
    "    for i, x in enumerate(binary_list):\n",
    "        if x == 1:\n",
    "            start = i\n",
    "            end = i\n",
    "            seqlen += 1\n",
    "            if (seqlen) > len_ones_sequence:\n",
    "                len_ones_sequence = seqlen\n",
    "                end_index = end\n",
    "                begin_index = end - seqlen + 1\n",
    "        else:\n",
    "            if seqlen > 0:\n",
    "                seqlen = 0        \n",
    "    return len_ones_sequence, begin_index, end_index\n",
    "\n",
    "assert function_4([0, 1, 0]) == (1, 1, 1)\n",
    "assert function_4([0, 0, 0]) == (0, 0, 0)\n",
    "assert function_4([0, 1, 1, 0, 1, 1, 1, 0, 0, 1, 0]) == (3, 4, 6)\n",
    "assert function_4([1, 1, 1, 0, 1, 1, 1, 0, 0, 1, 1]) == (3, 0, 2)\n",
    "            "
   ]
  },
  {
   "cell_type": "markdown",
   "metadata": {},
   "source": [
    "### Задача 6 (3 балла)"
   ]
  },
  {
   "cell_type": "markdown",
   "metadata": {},
   "source": [
    "Найти суммы элементов столбцов матрицы и отсортировать столбцы матрицы по возрастанию найденных сумм"
   ]
  },
  {
   "cell_type": "code",
   "execution_count": null,
   "metadata": {
    "collapsed": true
   },
   "outputs": [],
   "source": [
    "def function_5(matrix):\n",
    "    #место для вашей реализации\n",
    "    return sort_matrix\n",
    "\n",
    "#Тесты\n",
    "assert \n",
    "function_5([[5, 0, 1], [1, 1, 1], [2, 2, 0]]) == [[1, 0, 5], [1, 1, 1], [0, 2, 2]]"
   ]
  },
  {
   "cell_type": "markdown",
   "metadata": {},
   "source": [
    "### Задача 7 (3 балла)"
   ]
  },
  {
   "cell_type": "markdown",
   "metadata": {},
   "source": [
    "На вход подаётся строка S и буква w. Нужно развернуть в этой строке подстроку, заключенную между первой и последней буквой w, и вернуть получившуюся строку. Если данной буквы в строке нет, то вернуть -1. Если строка содержит только одну данную букву, то вернуть строку без изменений"
   ]
  },
  {
   "cell_type": "code",
   "execution_count": 510,
   "metadata": {},
   "outputs": [],
   "source": [
    "def function_6(S, w):\n",
    "    to_reverse = ''\n",
    "    start_point = S.find(w)\n",
    "    end_point = S.rfind(w)\n",
    "    if start_point < 0:\n",
    "        return -1\n",
    "    if start_point == end_point:\n",
    "        return S\n",
    "    for i in range(start_point + 1, end_point):\n",
    "        to_reverse += S[-i +1]\n",
    "    new_S = S[:start_point + 1] + to_reverse + S[end_point:]\n",
    "    return new_S\n",
    "\n",
    "#Тесты\n",
    "\n",
    "assert function_6('abcdefgefg', 'e') == 'abcdegfefg'\n",
    "assert function_6('abcdfgfg', 'e') == -1\n",
    "assert function_6('abcdefg', 'e') == 'abcdefg'"
   ]
  },
  {
   "cell_type": "markdown",
   "metadata": {},
   "source": [
    "### Задача 8 (4 балла + 2 балла за оформления в виде функции, принимающей текст на русском языке)"
   ]
  },
  {
   "cell_type": "code",
   "execution_count": 483,
   "metadata": {},
   "outputs": [
    {
     "data": {
      "text/plain": [
       "'ueuegyyeu'"
      ]
     },
     "execution_count": 483,
     "metadata": {},
     "output_type": "execute_result"
    }
   ],
   "source": []
  },
  {
   "cell_type": "markdown",
   "metadata": {},
   "source": [
    "Дан текст. Посчитать, сколько раз встречается каждое словои и вывести слова в порядке убывания количествА повторений слова (при совпадении частоты встречаемости -- вывести в лексикографическом порядке)"
   ]
  },
  {
   "cell_type": "code",
   "execution_count": 16,
   "metadata": {
    "collapsed": true
   },
   "outputs": [],
   "source": [
    "with open('problem_8_text.txt', 'r') as fl:\n",
    "     text = fl.read()\n",
    "#Теперь в text лежит сказка о Бабе-Яге =)\n",
    "\n",
    "#Теперь обработайте текст и сделайте красивенький вывод"
   ]
  }
 ],
 "metadata": {
  "kernelspec": {
   "display_name": "Python 3",
   "language": "python",
   "name": "python3"
  },
  "language_info": {
   "codemirror_mode": {
    "name": "ipython",
    "version": 3
   },
   "file_extension": ".py",
   "mimetype": "text/x-python",
   "name": "python",
   "nbconvert_exporter": "python",
   "pygments_lexer": "ipython3",
   "version": "3.6.2"
  }
 },
 "nbformat": 4,
 "nbformat_minor": 2
}
